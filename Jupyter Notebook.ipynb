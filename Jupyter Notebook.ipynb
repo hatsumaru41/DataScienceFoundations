{
 "cells": [
  {
   "cell_type": "markdown",
   "id": "75a95703-6acb-46b8-90f9-3fa7ec106590",
   "metadata": {},
   "source": [
    "# Jupyter Notebook"
   ]
  },
  {
   "cell_type": "markdown",
   "id": "65cd6cfc-f47b-4fcb-bb05-c8c6ac905c8d",
   "metadata": {
    "tags": []
   },
   "source": [
    "This is the start of the introduction"
   ]
  },
  {
   "cell_type": "markdown",
   "id": "39030e47-941d-480a-8033-aa49ec0170e7",
   "metadata": {
    "tags": []
   },
   "source": [
    "1. Python\n",
    "2. R\n",
    "3. SQL\n",
    "4. Java\n",
    "5. C\n",
    "6. C++"
   ]
  },
  {
   "cell_type": "markdown",
   "id": "3721fd6f-a20c-4f2c-9b1c-a538f671d265",
   "metadata": {},
   "source": [
    "* Pandas\n",
    "* Numpy\n",
    "* Plotly\n",
    "* Scikit-learn\n",
    "* Category-encoders\n",
    "* Imbalance Learning\n",
    "* LightGBM / XGBoost\n",
    "* Keras / Tensorflow\n",
    "* Shap\n",
    "* AzureML-sdk"
   ]
  },
  {
   "cell_type": "markdown",
   "id": "840250d3-eef5-4dd1-ae7d-3cbd992b2b96",
   "metadata": {},
   "source": [
    "# Herramientas de Ciencia de Datos\n",
    "\n",
    "| Herramienta | Descripción | Lenguaje | Sitio Web |\n",
    "|---|---|---|---|\n",
    "| Pandas | Manipulación y análisis de datos | Python | https://pandas.pydata.org/ |\n",
    "| NumPy | Biblioteca de computación científica | Python | https://numpy.org/ |\n",
    "| Matplotlib | Visualización de datos | Python | https://matplotlib.org/ |\n",
    "| Seaborn | Visualización de datos estadísticos | Python | https://seaborn.pydata.org/ |\n",
    "| Scikit-learn | Machine Learning | Python | https://scikit-learn.org/stable/ |\n",
    "| TensorFlow | Aprendizaje profundo | Python | https://www.tensorflow.org/ |\n",
    "| PyTorch | Aprendizaje profundo | Python | https://pytorch.org/ |\n",
    "| Jupyter Notebook | Entorno para ejecutar código y visualizar resultados | Python, R, Julia | https://jupyter.org/ |\n",
    "| Apache Spark | Procesamiento de datos a gran escala | Scala, Java, Python | https://spark.apache.org/ |\n",
    "| Apache Hadoop | Sistema de archivos distribuidos | Java | https://hadoop.apache.org/ |"
   ]
  },
  {
   "cell_type": "markdown",
   "id": "abcd7216-c60d-4e3b-b0e6-e065d8a5e087",
   "metadata": {},
   "source": [
    "# Ejemplos de Expresiones Aritméticas\n",
    "\n",
    "## Operaciones básicas:\n",
    "\n",
    "Suma: 5 + 3 = 8\n",
    "Resta: 10 - 4 = 6\n",
    "Multiplicación: 2 * 5 = 10\n",
    "División: 12 / 3 = 4\n",
    "## Operaciones combinadas:\n",
    "\n",
    "(5 + 3) * 2 = 16\n",
    "10 - (4 / 2) = 8\n",
    "2 * (5 + 3) = 16\n",
    "## Expresiones con paréntesis:\n",
    "\n",
    "(5 + (3 * 2)) - 4 = 11\n",
    "10 / ((4 / 2) + 1) = 2\n",
    "## Expresiones con variables:\n",
    "\n",
    "Si x = 5 e y = 3, entonces:\n",
    "x + y = 8\n",
    "x * y = 15\n",
    "x / y = 5/3"
   ]
  },
  {
   "cell_type": "code",
   "execution_count": 19,
   "id": "8838a4df-7a37-4e3c-bd5d-6280544b128e",
   "metadata": {},
   "outputs": [
    {
     "name": "stdout",
     "output_type": "stream",
     "text": [
      "El producto de 5 y 3 es 15\n",
      "La suma de 5 y 3 es 8\n"
     ]
    }
   ],
   "source": [
    "# Definir los números\n",
    "a = 5\n",
    "b = 3\n",
    "\n",
    "# Multiplicar los números\n",
    "producto = a * b\n",
    "\n",
    "# Sumar los números\n",
    "suma = a + b\n",
    "\n",
    "# Imprimir los resultados\n",
    "print(\"El producto de\", a, \"y\", b, \"es\", producto)\n",
    "print(\"La suma de\", a, \"y\", b, \"es\", suma)"
   ]
  },
  {
   "cell_type": "code",
   "execution_count": 21,
   "id": "5f7de116-6e53-4cb0-b294-a22b03a8a45e",
   "metadata": {},
   "outputs": [
    {
     "name": "stdout",
     "output_type": "stream",
     "text": [
      "120 minutos equivalen a 2.0 horas\n"
     ]
    }
   ],
   "source": [
    "# Definir el número de minutos\n",
    "minutos = 120\n",
    "\n",
    "# Convertir minutos a horas\n",
    "horas = minutos / 60\n",
    "\n",
    "# Imprimir el resultado\n",
    "print(f\"{minutos} minutos equivalen a {horas} horas\")"
   ]
  },
  {
   "cell_type": "code",
   "execution_count": 23,
   "id": "d1a29dd6-2d3a-4e25-ae36-2fe5a20300f2",
   "metadata": {},
   "outputs": [
    {
     "name": "stdout",
     "output_type": "stream",
     "text": [
      "- Aprender a usar Jupyter Notebook\n",
      "- Dominar los fundamentos de Python\n",
      "- Desarrollar habilidades en análisis de datos\n",
      "- Crear visualizaciones de datos atractivas\n",
      "- Construir modelos de aprendizaje automático\n"
     ]
    }
   ],
   "source": [
    "# Lista de objetivos\n",
    "objetivos = [\"Aprender a usar Jupyter Notebook\", \n",
    "             \"Dominar los fundamentos de Python\", \n",
    "             \"Desarrollar habilidades en análisis de datos\", \n",
    "             \"Crear visualizaciones de datos atractivas\", \n",
    "             \"Construir modelos de aprendizaje automático\"]\n",
    "\n",
    "# Imprimir la lista de objetivos\n",
    "for objetivo in objetivos:\n",
    "    print(f\"- {objetivo}\")"
   ]
  },
  {
   "cell_type": "markdown",
   "id": "2acfae6f-6e62-498a-8cbe-93285028e53d",
   "metadata": {
    "tags": []
   },
   "source": [
    "# Autor: Hiro Murakami"
   ]
  }
 ],
 "metadata": {
  "kernelspec": {
   "display_name": "anaconda-panel-2023.05-py310",
   "language": "python",
   "name": "conda-env-anaconda-panel-2023.05-py310-py"
  },
  "language_info": {
   "codemirror_mode": {
    "name": "ipython",
    "version": 3
   },
   "file_extension": ".py",
   "mimetype": "text/x-python",
   "name": "python",
   "nbconvert_exporter": "python",
   "pygments_lexer": "ipython3",
   "version": "3.11.5"
  }
 },
 "nbformat": 4,
 "nbformat_minor": 5
}
